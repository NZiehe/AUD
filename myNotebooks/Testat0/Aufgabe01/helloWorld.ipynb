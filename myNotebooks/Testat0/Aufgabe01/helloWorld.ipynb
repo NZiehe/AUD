{
 "cells": [
  {
   "cell_type": "code",
   "execution_count": 1,
   "id": "6bad72cf",
   "metadata": {},
   "outputs": [],
   "source": [
    "#include <iostream>\n",
    "using namespace std;"
   ]
  },
  {
   "cell_type": "code",
   "execution_count": 2,
   "id": "dc3561d6",
   "metadata": {},
   "outputs": [
    {
     "name": "stdout",
     "output_type": "stream",
     "text": [
      "Bitte eine Ganzzahl eingeben!7\n"
     ]
    }
   ],
   "source": [
    "int counter;\n",
    "\n",
    "cout << \"Bitte eine Ganzzahl eingeben!\";\n",
    "cin >> counter;"
   ]
  },
  {
   "cell_type": "code",
   "execution_count": 3,
   "id": "81ba79f9",
   "metadata": {},
   "outputs": [
    {
     "name": "stdout",
     "output_type": "stream",
     "text": [
      "Hello World!\n",
      "Hello World!\n",
      "Hello World!\n",
      "Hello World!\n",
      "Hello World!\n",
      "Hello World!\n",
      "Hello World!\n"
     ]
    }
   ],
   "source": [
    "for(int i = 0; i < counter; i++){\n",
    "    \n",
    "    cout << \"Hello World!\" << endl;\n",
    "}"
   ]
  },
  {
   "cell_type": "code",
   "execution_count": null,
   "id": "589916f9",
   "metadata": {},
   "outputs": [],
   "source": []
  }
 ],
 "metadata": {
  "kernelspec": {
   "display_name": "C++14",
   "language": "C++14",
   "name": "xcpp14"
  },
  "language_info": {
   "codemirror_mode": "text/x-c++src",
   "file_extension": ".cpp",
   "mimetype": "text/x-c++src",
   "name": "c++",
   "version": "14"
  }
 },
 "nbformat": 4,
 "nbformat_minor": 5
}
