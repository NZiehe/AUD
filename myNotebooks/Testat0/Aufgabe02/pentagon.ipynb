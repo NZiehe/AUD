{
 "cells": [
  {
   "cell_type": "code",
   "execution_count": 1,
   "id": "e076130a",
   "metadata": {},
   "outputs": [],
   "source": [
    "#include <algoviz/Turtle.hpp>"
   ]
  },
  {
   "cell_type": "code",
   "execution_count": 2,
   "id": "4d7aef8f",
   "metadata": {},
   "outputs": [],
   "source": [
    "Turtle turtle = Turtle(400,400);\n",
    "turtle.penUp();\n",
    "turtle.moveTo(200,200);\n",
    "turtle.setColor(\"black\");\n",
    "turtle.turn(108);\n",
    "turtle.penDown();"
   ]
  },
  {
   "cell_type": "code",
   "execution_count": 3,
   "id": "46c63c24",
   "metadata": {},
   "outputs": [],
   "source": [
    "for(int i = 0; i < 5; i++){\n",
    "    \n",
    "    turtle.forward(100);\n",
    "    turtle.turn(72);\n",
    "}"
   ]
  },
  {
   "cell_type": "code",
   "execution_count": null,
   "id": "8f867505",
   "metadata": {},
   "outputs": [],
   "source": []
  }
 ],
 "metadata": {
  "kernelspec": {
   "display_name": "C++14",
   "language": "C++14",
   "name": "xcpp14"
  },
  "language_info": {
   "codemirror_mode": "text/x-c++src",
   "file_extension": ".cpp",
   "mimetype": "text/x-c++src",
   "name": "c++",
   "version": "14"
  }
 },
 "nbformat": 4,
 "nbformat_minor": 5
}
