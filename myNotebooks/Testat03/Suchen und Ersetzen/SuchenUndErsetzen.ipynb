{
 "cells": [
  {
   "cell_type": "code",
   "execution_count": 10,
   "id": "dc5304c2",
   "metadata": {},
   "outputs": [],
   "source": [
    "#include <iostream>\n",
    "#include <string>\n",
    "using namespace std;"
   ]
  },
  {
   "cell_type": "code",
   "execution_count": null,
   "id": "3a576e3b",
   "metadata": {},
   "outputs": [
    {
     "name": "stdout",
     "output_type": "stream",
     "text": [
      "Wort eingeben: \n",
      "Wolfgang\n",
      "Wort eingeben: \n"
     ]
    }
   ],
   "source": [
    "string eingabe = \"\";\n",
    "bool check = false;\n",
    "bool ausgabe = false;\n",
    "\n",
    "//Eingabe\n",
    "do{\n",
    "    check = false;\n",
    "    eingabe = \"\";\n",
    "    cout << \"Wort eingeben: \\n\";\n",
    "    cin >> eingabe;\n",
    "    for(char tmp : eingabe){\n",
    "        if(!((tmp >= 97) && (tmp <= 122))){ //Ob die Zeichen nicht kleinbuchstaben sind\n",
    "            check = true;\n",
    "        }\n",
    "    }\n",
    "\n",
    "}while(check);"
   ]
  },
  {
   "cell_type": "code",
   "execution_count": 9,
   "id": "73b60585",
   "metadata": {},
   "outputs": [
    {
     "name": "stdout",
     "output_type": "stream",
     "text": [
      "Originalstring: wolfgang\n",
      "Buchstabe: w\n",
      "Index: 0\n",
      "Ergebnisstring: Wolfgang"
     ]
    }
   ],
   "source": [
    "char buchstabe;\n",
    "int counter = 0;\n",
    "\n",
    "//für jeden Buchstaben wird der Reihe nach geschaut ob er mehmals vorkommt\n",
    "for(int i = 0; i < eingabe.length(); i++){\n",
    "        \n",
    "    if(counter == 0){\n",
    "        buchstabe = eingabe.at(i);\n",
    "    \n",
    "        for(char tmp : eingabe){\n",
    "            if(tmp == buchstabe){\n",
    "                counter++;\n",
    "            }\n",
    "        }\n",
    "    }\n",
    "    \n",
    "    //Damit die Ausgabe nicht mehrmals vorkommt wird sie nach dem ersten Fund gestoppt\n",
    "    if(check == false){\n",
    "        if(counter == 1){\n",
    "            string ausgabe = eingabe;\n",
    "            ausgabe.at(i) = (char)(eingabe.at(i) -32);\n",
    "            \n",
    "            //Um den Char bei der Ausgabe als string mit anhängen zu können\n",
    "            string bs = \"\";\n",
    "            bs += buchstabe;\n",
    "            \n",
    "            //Ausgabe\n",
    "            cout << \"Originalstring: \" + eingabe + \"\\n\";\n",
    "            cout << \"Buchstabe: \" + bs + \"\\n\";\n",
    "            cout << \"Index: \" + to_string(i) + \"\\n\";\n",
    "            cout << \"Ergebnisstring: \" + ausgabe;\n",
    "            check = true;//deaktivieren der Ausgabe\n",
    "        }\n",
    "    }\n",
    "    counter = 0;\n",
    "}"
   ]
  },
  {
   "cell_type": "code",
   "execution_count": null,
   "id": "6aeae32d",
   "metadata": {},
   "outputs": [],
   "source": []
  }
 ],
 "metadata": {
  "kernelspec": {
   "display_name": "C++14",
   "language": "C++14",
   "name": "xcpp14"
  },
  "language_info": {
   "codemirror_mode": "text/x-c++src",
   "file_extension": ".cpp",
   "mimetype": "text/x-c++src",
   "name": "c++",
   "version": "14"
  }
 },
 "nbformat": 4,
 "nbformat_minor": 5
}
