{
 "cells": [
  {
   "cell_type": "code",
   "execution_count": 1,
   "id": "dd76de12",
   "metadata": {},
   "outputs": [],
   "source": [
    "#include <iostream>\n",
    "#include <string>\n",
    "using namespace std;"
   ]
  },
  {
   "cell_type": "code",
   "execution_count": 2,
   "id": "714ad06c",
   "metadata": {},
   "outputs": [
    {
     "name": "stdout",
     "output_type": "stream",
     "text": [
      "Wort eingeben: \n",
      "rentnerin\n"
     ]
    }
   ],
   "source": [
    "string eingabe = \"\";\n",
    "bool check = false;\n",
    "bool ausgabe = false;\n",
    "\n",
    "do{\n",
    "    check = false;\n",
    "    eingabe = \"\";\n",
    "    cout << \"Wort eingeben: \\n\";\n",
    "    cin >> eingabe;\n",
    "    for(char tmp : eingabe){\n",
    "        if(!((tmp >= 97) && (tmp <= 122))){\n",
    "            check = true;\n",
    "        }\n",
    "    }\n",
    "\n",
    "}while(check);"
   ]
  },
  {
   "cell_type": "code",
   "execution_count": 3,
   "id": "36839e2b",
   "metadata": {},
   "outputs": [],
   "source": [
    "char buchstabe;\n",
    "int counter = 0;\n",
    "\n",
    "for(int i = 0; i < eingabe.length(); i++){\n",
    "        \n",
    "    if(counter == 0){\n",
    "        buchstabe = eingabe.at(i);\n",
    "    \n",
    "        for(char tmp : eingabe){\n",
    "            if(tmp == buchstabe){\n",
    "                counter++;\n",
    "            }\n",
    "        }\n",
    "    }\n",
    "    \n",
    "    if(check == false){\n",
    "        if(counter == 1){\n",
    "            string ausgabe = eingabe;\n",
    "            ausgabe.at(i) = (char)(eingabe.at(i) -32);\n",
    "            cout << ausgabe;\n",
    "            check = true;\n",
    "        }\n",
    "    }\n",
    "    counter = 0;\n",
    "}"
   ]
  },
  {
   "cell_type": "code",
   "execution_count": null,
   "id": "d15dfed4",
   "metadata": {},
   "outputs": [],
   "source": []
  }
 ],
 "metadata": {
  "kernelspec": {
   "display_name": "C++14",
   "language": "C++14",
   "name": "xcpp14"
  },
  "language_info": {
   "codemirror_mode": "text/x-c++src",
   "file_extension": ".cpp",
   "mimetype": "text/x-c++src",
   "name": "c++",
   "version": "14"
  }
 },
 "nbformat": 4,
 "nbformat_minor": 5
}
