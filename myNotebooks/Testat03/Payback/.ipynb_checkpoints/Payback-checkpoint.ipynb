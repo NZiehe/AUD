{
 "cells": [
  {
   "cell_type": "code",
   "execution_count": 5,
   "id": "0dbdce4b",
   "metadata": {},
   "outputs": [],
   "source": [
    "//payback nummer einlesen >> array !!NUR EINZELNE ZIFFERN MÖGLICH\n",
    "//prüfziffer validieren\n",
    "//vermutete prüfziffer vorliegt? > einlesen > korrekt?\n",
    "//falls nein berechnen\n",
    "//prüfziffer + nummer ausgeben\n",
    "#include <iostream>\n",
    "#include <string>\n",
    "using namespace std;"
   ]
  },
  {
   "cell_type": "code",
   "execution_count": 7,
   "id": "4ac38d7e",
   "metadata": {},
   "outputs": [
    {
     "name": "stdout",
     "output_type": "stream",
     "text": [
      "Bitte 1 Ziffer der Payback-Nummer eingeben: \n",
      "2\n",
      "Bitte 2 Ziffer der Payback-Nummer eingeben: \n",
      "2\n",
      "Bitte 3 Ziffer der Payback-Nummer eingeben: \n",
      "2\n",
      "Bitte 4 Ziffer der Payback-Nummer eingeben: \n",
      "2\n",
      "Bitte 5 Ziffer der Payback-Nummer eingeben: \n",
      "2\n",
      "Bitte 6 Ziffer der Payback-Nummer eingeben: \n",
      "2\n",
      "Bitte 7 Ziffer der Payback-Nummer eingeben: \n",
      "2\n",
      "Bitte 8 Ziffer der Payback-Nummer eingeben: \n",
      "2\n",
      "Bitte 9 Ziffer der Payback-Nummer eingeben: \n",
      "2\n",
      "Bitte 10 Ziffer der Payback-Nummer eingeben: \n",
      "\n",
      "2\n",
      "Bitte 11 Ziffer der Payback-Nummer eingeben: \n",
      "2\n",
      "Bitte 12 Ziffer der Payback-Nummer eingeben: \n",
      "2\n",
      "Bitte 13 Ziffer der Payback-Nummer eingeben: \n",
      "2\n",
      "Bitte 14 Ziffer der Payback-Nummer eingeben: \n",
      "2\n",
      "Bitte 15 Ziffer der Payback-Nummer eingeben: \n",
      "2\n",
      "\n",
      "\n"
     ]
    }
   ],
   "source": [
    "int payback[16];\n",
    "int counter = 0;\n",
    "string eingabe = \"\";\n",
    "bool check = false;\n",
    "\n",
    "do{\n",
    "    check = false;\n",
    "    eingabe = \"\";\n",
    "    cout << \"Bitte \" + to_string(counter + 1) + \" Ziffer der Payback-Nummer eingeben: \\n\";\n",
    "    cin >> eingabe;\n",
    "      \n",
    "    if(eingabe.length() != 1){\n",
    "        cout << \"Bitte nur einzelne Ziffern eingeben!\\n\";\n",
    "        \n",
    "    }else if(!(eingabe.at(0) >= 48 && eingabe.at(0) <= 57)){\n",
    "        cout << \"Bitte nur Ziffern 0 bis 9 eingeben!\\n\";\n",
    "        \n",
    "    }else{\n",
    "        check = true;\n",
    "    }      \n",
    "        \n",
    "    if(check){\n",
    "        payback[counter] = (int) eingabe[counter];\n",
    "        counter++;\n",
    "    }\n",
    "        \n",
    "}while(counter < 15);\n",
    "\n",
    "cout << \"\\n\" << \"\\n\" << \"Liegt die Prüfziffer vor? 'y' ür ja, 'n' fr Nein \\n\";\n",
    "eingabe = \"\";\n",
    "\n",
    "do{\n",
    "   if(eingabe.length() != 1 && (eingabe.at(0\n",
    "        \n",
    "}while(counter < 15);"
   ]
  },
  {
   "cell_type": "code",
   "execution_count": null,
   "id": "8bf65ac3",
   "metadata": {},
   "outputs": [],
   "source": []
  }
 ],
 "metadata": {
  "kernelspec": {
   "display_name": "C++14",
   "language": "C++14",
   "name": "xcpp14"
  },
  "language_info": {
   "codemirror_mode": "text/x-c++src",
   "file_extension": ".cpp",
   "mimetype": "text/x-c++src",
   "name": "c++",
   "version": "14"
  }
 },
 "nbformat": 4,
 "nbformat_minor": 5
}
