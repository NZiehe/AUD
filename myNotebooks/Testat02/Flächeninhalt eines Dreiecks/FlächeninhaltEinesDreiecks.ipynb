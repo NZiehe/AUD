{
 "cells": [
  {
   "cell_type": "code",
   "execution_count": 1,
   "id": "b48e5e98",
   "metadata": {},
   "outputs": [],
   "source": [
    "#include <iostream>\n",
    "#include <cmath>\n",
    "//namespace std;"
   ]
  },
  {
   "cell_type": "code",
   "execution_count": null,
   "id": "ce5e2ed9",
   "metadata": {},
   "outputs": [
    {
     "name": "stdout",
     "output_type": "stream",
     "text": [
      "Länge >= 1 für Seite a des Dreicks eingeben \n",
      "-2\n",
      "Länge >= 1 für Seite a des Dreicks eingeben \n",
      "3\n",
      "Länge >= 1 für Seite b des Dreicks eingeben \n",
      "4\n",
      "Länge >= 1 für Seite c des Dreicks eingeben \n"
     ]
    }
   ],
   "source": [
    "//Eingaben\n",
    "double seiteA = 0;\n",
    "double seiteB = 0;\n",
    "double seiteC = 0;\n",
    "\n",
    "do{\n",
    "    std::cout << \"Länge >= 1 für Seite a des Dreicks eingeben \\n\";\n",
    "    std::cin >> seiteA;\n",
    "}while(seiteA < 1);\n",
    "    \n",
    "do{\n",
    "    std::cout << \"Länge >= 1 für Seite b des Dreicks eingeben \\n\";\n",
    "    std::cin >> seiteB;\n",
    "}while(seiteB < 1);\n",
    "    \n",
    "do{\n",
    "    std::cout << \"Länge >= 1 für Seite c des Dreicks eingeben \\n\";\n",
    "    std::cin >> seiteC;\n",
    "}while(seiteC < 1);"
   ]
  },
  {
   "cell_type": "code",
   "execution_count": 6,
   "id": "07aaa9a6",
   "metadata": {},
   "outputs": [],
   "source": [
    "//Überprüfung ob es möglich ist solch ein Dreieck zu bilden\n",
    "if(!((seiteA + seiteB) > seiteC && (seiteA + seiteC) > seiteB && (seiteB + seiteC) > seiteA)){\n",
    "    std::cout << \"Dreick existiert nicht\";\n",
    "}"
   ]
  },
  {
   "cell_type": "code",
   "execution_count": 7,
   "id": "0a5db99d",
   "metadata": {},
   "outputs": [],
   "source": [
    "//Aussrechnen des Flächeninhalts\n",
    "double s = (seiteA + seiteB + seiteC) / 2;\n",
    "double flaeche = sqrt(s * (s - seiteA) * (s - seiteB) * (s - seiteC));"
   ]
  },
  {
   "cell_type": "code",
   "execution_count": 8,
   "id": "f9e88d88",
   "metadata": {},
   "outputs": [
    {
     "name": "stdout",
     "output_type": "stream",
     "text": [
      "Dreieck hat einen rechten Winkelund einen flächeninhalt von: 6"
     ]
    }
   ],
   "source": [
    "//Überprüfung ob das Dreieck einen rec\n",
    "if((seiteA > seiteB) && (seiteA > seiteC)){\n",
    "    \n",
    "    if(pow(seiteA, 2) == (pow(seiteB, 2) + pow(seiteC, 2))){\n",
    "        \n",
    "        std::cout << \"Dreieck hat einen rechten Winkelund einen flächeninhalt von: \" << flaeche;\n",
    "    }\n",
    "    else{\n",
    "        std::cout << \"Dreieck hat keinen rechten Winklel und einen flächeninhalt von: \" << flaeche;\n",
    "    }\n",
    "}else if((seiteB > seiteA) && (seiteB > seiteC)){\n",
    "    \n",
    "    if(pow(seiteB, 2) == (pow(seiteA, 2) + pow(seiteC, 2))){\n",
    "        \n",
    "        std::cout << \"Dreieck hat einen rechten Winkelund einen flächeninhalt von: \" << flaeche;\n",
    "    }\n",
    "    else{\n",
    "        std::cout << \"Dreieck hat keinen rechten Winklel und einen flächeninhalt von: \" << flaeche;\n",
    "    }\n",
    "}else if((seiteC > seiteB) && (seiteC > seiteA)){\n",
    "    \n",
    "    if(pow(seiteC, 2) == (pow(seiteA, 2) + pow(seiteB, 2))){\n",
    "        \n",
    "        std::cout << \"Dreieck hat einen rechten Winkel und einen flächeninhalt von: \" << flaeche;\n",
    "    }\n",
    "    else{\n",
    "        std::cout << \"Dreieck hat keinen rechten Winklel und einen flächeninhalt von: \" << flaeche;\n",
    "    }\n",
    "}"
   ]
  },
  {
   "cell_type": "code",
   "execution_count": null,
   "id": "9ee461b9",
   "metadata": {},
   "outputs": [],
   "source": []
  }
 ],
 "metadata": {
  "kernelspec": {
   "display_name": "C++14",
   "language": "C++14",
   "name": "xcpp14"
  },
  "language_info": {
   "codemirror_mode": "text/x-c++src",
   "file_extension": ".cpp",
   "mimetype": "text/x-c++src",
   "name": "c++",
   "version": "14"
  }
 },
 "nbformat": 4,
 "nbformat_minor": 5
}
