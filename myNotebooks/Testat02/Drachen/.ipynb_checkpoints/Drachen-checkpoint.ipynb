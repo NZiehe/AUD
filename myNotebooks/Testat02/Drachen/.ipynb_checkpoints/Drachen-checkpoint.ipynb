{
 "cells": [
  {
   "cell_type": "code",
   "execution_count": 3,
   "id": "be25c4f1",
   "metadata": {},
   "outputs": [],
   "source": [
    "//dracchenhöhe >= 3 nur ungerade\n",
    "//schnur >= 2\n",
    "#include <iostream>"
   ]
  },
  {
   "cell_type": "code",
   "execution_count": 4,
   "id": "b650945b",
   "metadata": {},
   "outputs": [
    {
     "name": "stdout",
     "output_type": "stream",
     "text": [
      "Bitte eine ungerade Drachenhoehe >= 3: 2\n"
     ]
    }
   ],
   "source": [
    "int drache = 0;\n",
    "int schnur = 0;\n",
    "\n",
    "do{\n",
    "    std::cout << \"Bitte eine ungerade Drachenhoehe >= 3: \";\n",
    "    std::cin >> drache;\n",
    "}while((drache <= 3) && (drache % 2 == 1));"
   ]
  },
  {
   "cell_type": "code",
   "execution_count": null,
   "id": "23460cf4",
   "metadata": {},
   "outputs": [],
   "source": []
  }
 ],
 "metadata": {
  "kernelspec": {
   "display_name": "C++14",
   "language": "C++14",
   "name": "xcpp14"
  },
  "language_info": {
   "codemirror_mode": "text/x-c++src",
   "file_extension": ".cpp",
   "mimetype": "text/x-c++src",
   "name": "c++",
   "version": "14"
  }
 },
 "nbformat": 4,
 "nbformat_minor": 5
}
