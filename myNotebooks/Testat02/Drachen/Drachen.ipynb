{
 "cells": [
  {
   "cell_type": "code",
   "execution_count": 1,
   "id": "79b32cf2",
   "metadata": {},
   "outputs": [],
   "source": [
    "#include <iostream>"
   ]
  },
  {
   "cell_type": "code",
   "execution_count": 2,
   "id": "90b32ce4",
   "metadata": {},
   "outputs": [
    {
     "name": "stdout",
     "output_type": "stream",
     "text": [
      "Bitte eine ungerade Drachenhoehe >= 3: 7\n",
      "Bitte eine Schnurlaenge >=2: 8\n"
     ]
    }
   ],
   "source": [
    "// Eingabe\n",
    "int drache = 0;\n",
    "int schnur = 0;\n",
    "\n",
    "do{\n",
    "    std::cout << \"Bitte eine ungerade Drachenhoehe >= 3: \";\n",
    "    std::cin >> drache;\n",
    "}while((drache < 3) || (drache % 2 == 0));\n",
    "\n",
    "do{\n",
    "    std::cout << \"Bitte eine Schnurlaenge >=2: \";\n",
    "    std::cin >> schnur;\n",
    "}while(schnur < 2);"
   ]
  },
  {
   "cell_type": "code",
   "execution_count": 3,
   "id": "5561175e",
   "metadata": {},
   "outputs": [
    {
     "name": "stdout",
     "output_type": "stream",
     "text": [
      "   * \n",
      "  *** \n",
      " ***** \n",
      "******* \n",
      " *****\n",
      "  ***\n",
      "   *\n",
      "    *\n",
      "   *\n",
      "    *\n",
      "   *\n",
      "    *\n",
      "   *\n",
      "    *\n",
      "   *\n"
     ]
    }
   ],
   "source": [
    "int counter = 1;\n",
    "// Obere + Mittelteil des Drachen\n",
    "\n",
    "for(int i = 0; i <= (drache / 2); i++){\n",
    "    \n",
    "    \n",
    "    \n",
    "    for(int j = ((drache / 2) - i); j > 0; j--){\n",
    "        std::cout << \" \";\n",
    "    }\n",
    "    \n",
    "    for(int k = 0; k < counter; k++){\n",
    "        std::cout << \"*\";\n",
    "    }\n",
    "    \n",
    "    counter += 2;\n",
    "    std::cout << \" \\n\";\n",
    "\n",
    "}\n",
    "\n",
    "counter -= 4; //wird neu initialisiert\n",
    "\n",
    "//Untere teil des Drachen\n",
    "\n",
    "for(int i = 1; i <= (drache / 2); i++){\n",
    "    \n",
    "    \n",
    "    \n",
    "    for(int j = i; j > 0; j--){\n",
    "        std::cout << \" \";\n",
    "    }\n",
    "    \n",
    "    for(int k = 0; k < counter; k++){\n",
    "        std::cout << \"*\";\n",
    "    }\n",
    "    \n",
    "    counter -= 2;\n",
    "    std::cout << \"\\n\";\n",
    "}\n",
    "\n",
    "\n",
    "//schnur \n",
    "counter = (drache / 2) + 1;\n",
    "\n",
    "for(int i = 0; i < schnur; i++){\n",
    "    \n",
    "    for(int j = 0; j < counter; j++){\n",
    "        \n",
    "        std::cout << \" \";\n",
    "    }\n",
    "    \n",
    "    std::cout << \"*\\n\";\n",
    "    \n",
    "    if(counter % 2 == 1){\n",
    "        \n",
    "        counter++;\n",
    "    }else{\n",
    "        \n",
    "        counter--;\n",
    "    }\n",
    "}"
   ]
  },
  {
   "cell_type": "code",
   "execution_count": null,
   "id": "ca370b75",
   "metadata": {},
   "outputs": [],
   "source": []
  },
  {
   "cell_type": "code",
   "execution_count": null,
   "id": "36549382",
   "metadata": {},
   "outputs": [],
   "source": []
  }
 ],
 "metadata": {
  "kernelspec": {
   "display_name": "C++14",
   "language": "C++14",
   "name": "xcpp14"
  },
  "language_info": {
   "codemirror_mode": "text/x-c++src",
   "file_extension": ".cpp",
   "mimetype": "text/x-c++src",
   "name": "c++",
   "version": "14"
  }
 },
 "nbformat": 4,
 "nbformat_minor": 5
}
