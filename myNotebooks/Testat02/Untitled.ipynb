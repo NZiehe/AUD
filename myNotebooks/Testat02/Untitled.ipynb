{
 "cells": [
  {
   "cell_type": "code",
   "execution_count": 1,
   "id": "418f81de",
   "metadata": {},
   "outputs": [],
   "source": [
    "#include <iostream>\n",
    "#include <algoviz/SVG.hpp>\n",
    "#include <cmath>\n",
    "using namespace std;"
   ]
  },
  {
   "cell_type": "code",
   "execution_count": 5,
   "id": "66fa8974",
   "metadata": {},
   "outputs": [],
   "source": [
    "SVG canvas = SVG(500,500);\n",
    "int rdmX = 0;\n",
    "int rdmY = 0;\n",
    "Rect box1 = Rect((rand()%100) +1, (rand()%100) +1 , 50, 50, &canvas);"
   ]
  },
  {
   "cell_type": "code",
   "execution_count": null,
   "id": "26a17ceb",
   "metadata": {},
   "outputs": [],
   "source": []
  }
 ],
 "metadata": {
  "kernelspec": {
   "display_name": "C++14",
   "language": "C++14",
   "name": "xcpp14"
  },
  "language_info": {
   "codemirror_mode": "text/x-c++src",
   "file_extension": ".cpp",
   "mimetype": "text/x-c++src",
   "name": "c++",
   "version": "14"
  }
 },
 "nbformat": 4,
 "nbformat_minor": 5
}
