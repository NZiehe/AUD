{
 "cells": [
  {
   "cell_type": "markdown",
   "metadata": {},
   "source": [
    "# Testataufgabe: Referenzen und Zeiger (25 Punkte)\n",
    "Diese Aufgabe besteht aus mehreren Teilaufgaben, die Sie unabhängig voneinander bearbeiten können. Die Reihenfolge ist allerdings so gewählt, dass die Komplexität zunimmt, sodass ein Bearbeiten in der vorgegebenen Reihenfolge empfohlen wird.\n",
    "\n",
    "***\n",
    "\n",
    "## Anforderungen\n",
    "\n",
    "Die Anforderungen stehen direkt bei den Teilaufgaben.\n",
    "\n",
    "***"
   ]
  },
  {
   "cell_type": "markdown",
   "metadata": {},
   "source": [
    "## Teilaufgabe 1 (5 Punkte)\n",
    "Führen Sie die folgenden drei Zellen aus und betrachten Sie die Ausgabe im SVG. Machen Sie sich Notizen zur Funktionsweise der Operation *moveCircle*, sodass Sie Ihrem Tutor das beobachtete Verhalten im Testat erklären können. Gehen Sie in Ihrer Erklärung auf die Begriffe **Kopie** und **Referenz** ein.\n",
    "Ändern Sie die Operation *moveCircle* so, dass diese den übergebenen Kreis verändert und der Testcode zum erwarteten Verhalten führt.\n",
    "\n",
    "### Anforderungen Teilaufgabe 1\n",
    "- Erklärung des beobachteten Verhaltens anhand Notizen.\n",
    "- Anpassen der Operation *moveCircle*."
   ]
  },
  {
   "cell_type": "code",
   "execution_count": null,
   "metadata": {},
   "outputs": [],
   "source": [
    "#include <algoviz/SVG.hpp>\n",
    "using namespace std;\n",
    "\n",
    "AlgoViz::clear();\n",
    "SVG zeichnung = SVG(400, 400, \"Die Zeichnung\");"
   ]
  },
  {
   "cell_type": "code",
   "execution_count": null,
   "metadata": {},
   "outputs": [],
   "source": [
    "void moveCircle(Circle &c, int x, int y) { //Referenz übergeben\n",
    "    c.setFill(\"blue\");\n",
    "    c.moveTo(x, y);\n",
    "    AlgoViz::sleep(1000);\n",
    "}"
   ]
  },
  {
   "cell_type": "code",
   "execution_count": null,
   "metadata": {},
   "outputs": [],
   "source": [
    "// Testcode zu Teilaufgabe 1\n",
    "Circle kreis = Circle(200, 200, 20, &zeichnung);\n",
    "kreis.setFill(\"red\");\n",
    "\n",
    "AlgoViz::sleep(1000);\n",
    "\n",
    "moveCircle(kreis, 200, 300);\n",
    "moveCircle(kreis, 300, 200);\n",
    "moveCircle(kreis, 200, 100);\n",
    "moveCircle(kreis, 100, 200);"
   ]
  },
  {
   "cell_type": "code",
   "execution_count": null,
   "metadata": {},
   "outputs": [],
   "source": [
    "/*\n",
    "Es wird ein Roter Kreis in der Mitte erzeugt, \n",
    "danach einen Blauen Kreis durch den Aufruf \n",
    "von der moveCircle Methode, \n",
    "welcher sich dann einmal um den Roten Kreis bewegt. \n",
    "Es werden zwei Kreise erzeugt, \n",
    "da der bei dem Aufruf der moveCircle Methode,\n",
    "ein weiterer erstellt wird. \n",
    "Um zu erreichen, dass der Rote Kreis sich Blau färbt\n",
    "und sich einmal im Kreis bewegt, \n",
    "was auch heißt es existiert dann nur ein Kreis, \n",
    "muss der moveCircle Methode die Reverenz zum roten Kreis\n",
    "übergeben werden, sonnst erstellt die Methode eine Kopie\n",
    "und es existieren zwei Kreise.\n",
    "*/"
   ]
  },
  {
   "cell_type": "markdown",
   "metadata": {},
   "source": [
    "***\n",
    "\n",
    "## Teilaufgabe 2 (5 Punkte)\n",
    "\n",
    "Ergänzen Sie die folgende Operation *findMinAndMax* um geeignete Parameter und Code, sodass diese sowohl den Index des Minimums, als auch des Maximums in einem beliebigen int-Array bestimmt und diese global nutzbar macht. **Verändern Sie dazu nicht den Rückgabetyp der Operation!** Nutzen Sie den vorgegebenen Testcode zum Testen Ihrer Implementation. **Der Testcode darf ausschließlich an der gekennzeichneten Stelle verändert werden!**\n",
    "\n",
    "### Anforderungen Teilaufgabe 2\n",
    "- Ergänzung geeigneter Parameter der Operation *findMinAndMax*.\n",
    "- Implementation der vorgegebenen Funktionalität der Operation.\n",
    "- Anpassung des Testcodes an vorgegebener Stelle.\n",
    "- Korrekte Funktionalität des Testcodes."
   ]
  },
  {
   "cell_type": "code",
   "execution_count": 1,
   "metadata": {},
   "outputs": [],
   "source": [
    "void findMinAndMax(int &max, int *min, int numb[], int laenge) {\n",
    "    \n",
    "    for(int i = 0; i < laenge; i++){\n",
    "        \n",
    "        if(numb[i] > numb[*max]){\n",
    "            *max = i;\n",
    "        }\n",
    "        if(numb[i] < numb[*min]){\n",
    "            *min = i;\n",
    "        }\n",
    "    }\n",
    "}"
   ]
  },
  {
   "cell_type": "code",
   "execution_count": 2,
   "metadata": {},
   "outputs": [
    {
     "name": "stdout",
     "output_type": "stream",
     "text": [
      "25 64 50 8 6 10 7 62 21 16 14 53 96 71 12 24 83 29 14 14 \n",
      "Das kleinste Element ist: 6 an Index: 4\n",
      "Das groesste Element ist: 96 an Index: 12\n"
     ]
    }
   ],
   "source": [
    "// Testcode zu Teilaufgabe 2\n",
    "#include <iostream>\n",
    "#include <algoviz/Tools.hpp>\n",
    "using namespace std;\n",
    "\n",
    "int minimum; // Der Index des global nutzbaren Minimums\n",
    "int maximum; // Der Index des global nutzbaren Maximums\n",
    "const int anzahlZahlen = 20; // Die Anzahl Einträge im Array\n",
    "int zahlen[anzahlZahlen]; // Das Array von ints\n",
    "\n",
    "Tools::fillArray(zahlen, anzahlZahlen); // Zufälliges Füllen des Arrays\n",
    "Tools::printArray(zahlen, anzahlZahlen); // Ausgabe des Arrays\n",
    "\n",
    "// AUSSCHLIEßLICH DIE FOLGENDE ZEILE 15 DARF GEÄNDERT WERDEN!\n",
    "findMinAndMax(maximum, &minimum, zahlen, anzahlZahlen);\n",
    "// AB HIER DARF NICHTS MEHR GEÄNDERT WERDEN!\n",
    "\n",
    "// Ergebnisausgabe\n",
    "cout << \"Das kleinste Element ist: \" << zahlen[minimum] << \" an Index: \" << minimum << endl;\n",
    "cout << \"Das groesste Element ist: \" << zahlen[maximum] << \" an Index: \" << maximum << endl;"
   ]
  },
  {
   "cell_type": "markdown",
   "metadata": {},
   "source": [
    "***\n",
    "\n",
    "## Teilaufgabe 3 (7 Punkte)\n",
    "\n",
    "Implementieren Sie die im folgenden Video zu sehende Verfolgungsjagd:\n",
    "\n",
    "<video width=\"400\" height=\"320\" muted autoplay controls src=\"verfolgungsjagd.mov\">Verfolgungsjagd</video>\n",
    "\n",
    "Der rote Kreis wird mit den Pfeiltasten gesteuert und der blaue wiederholt dessen Bewegungen exakt. Wenn die Kreise sich zu nahe kommen, soll der blaue Kreis seine Bewegung stoppen und es sollen trotzdem die Bewegungen des roten Kreises gespeichert werden. Nachdem die Distanz der beiden Kreise wieder einen Schwellwert überschritten hat, soll der blaue Kreis alle Bewegungen des roten nachholen. Verwenden Sie geeignete Operationen für Ihre Implementation. Verwenden Sie Vectoren zur Speicherung der Bewegungen des roten Kreises.\n",
    "\n",
    "Stellen Sie sicher, dass zu jedem Zeitpunkt der Ausführung ausschließlich die beiden Kreise existieren, also von diesen keine Kopien erzeugt werden!\n",
    "\n",
    "### Anforderungen Teilaufgabe 3\n",
    "- Funktionalität entsprechend des Videos.\n",
    "- Wiederholung der Bewegungen des roten Kreises durch den blauen Kreis.\n",
    "- Speichern der Bewegungen des roten Kreises in Vectoren.\n",
    "- Verwendung geeigneter Operationen.\n",
    "- Keine Verwendung von Kopien der beiden Kreise."
   ]
  },
  {
   "cell_type": "markdown",
   "metadata": {},
   "source": [
    "***\n",
    "\n",
    "## Teilaufgabe 4 (8 Punkte)\n",
    "\n",
    "Implementieren Sie die im folgenden Video zu sehende Funktionalität:\n",
    "\n",
    "<video width=\"400\" height=\"320\" muted autoplay controls src=\"bunteGestapelteSteinchen.mov\">Bunte Gestapelte Steinchen</video>\n",
    "\n",
    "Durch Druck der Pfeiltaste nach oben wird ein neuer Stein hinzugefügt und durch Druck der Pfeiltaste nach unten der zuletzt hinzugefügte gelöscht. Die Farbe jedes neuen Steins soll zufällig generiert werden. Achten Sie darauf, dass nicht mehr oder weniger Steine erzeugt bzw. gelöscht werden können, als durch die Größe des SVG vorgegeben ist. Verwenden Sie zur Verwaltung der Steine einen Vector von Pointern.\n",
    "\n",
    "### Anforderungen Teilaufgabe 4\n",
    "- Funktionalität entsprechend des Videos.\n",
    "- Dynamisches Erzeugen und Löschen der bunten Steinchen mit den Pfeiltasten.\n",
    "- Zufällige Farbe jedes neuen Steinchens.\n",
    "- Begrenzung der Anzahl Steinchen durch die Größe des SVG.\n",
    "- Verwendung eines Vectors von Pointern zur Verwaltung der Steinchen."
   ]
  },
  {
   "cell_type": "markdown",
   "metadata": {},
   "source": [
    "***\n",
    "\n",
    "<div id=\"algoviz-license\" style=\"font-size: 75%; border-top: 1px solid lightgray; padding-top: 10px; margin-top: 20px;\">\n",
    "    <a href=\"https://creativecommons.org/licenses/by-sa/4.0/deed.de\" style=\"float:left; margin-right: 10px\">\n",
    "        <img src=\"../../img/CC-BY-SA.svg\" alt=\"CC-BY-SA\"/>\n",
    "    </a>\n",
    "    <span>\n",
    "        Alle Inhalte dieses Notebooks sind, ausgenommen der Personenbilder und sofern nicht an\n",
    "        einzelnen Inhalten anderes angegeben, lizenziert unter der Creative Commons Lizenz\n",
    "        <b>CC BY SA 4.0</b>. Namensnennung wie folgt: <b>AG Didaktik der Informatik, Universität Osnabrück</b>\n",
    "    </span>\n",
    "</div>"
   ]
  }
 ],
 "metadata": {
  "kernelspec": {
   "display_name": "C++14",
   "language": "C++14",
   "name": "xcpp14"
  },
  "language_info": {
   "codemirror_mode": "text/x-c++src",
   "file_extension": ".cpp",
   "mimetype": "text/x-c++src",
   "name": "c++",
   "version": "14"
  }
 },
 "nbformat": 4,
 "nbformat_minor": 4
}
