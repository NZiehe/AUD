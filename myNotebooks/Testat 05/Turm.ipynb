{
 "cells": [
  {
   "cell_type": "code",
   "execution_count": 1,
   "id": "03c20bec",
   "metadata": {},
   "outputs": [],
   "source": [
    "#include <algoviz/SVG.hpp>\n",
    "#include <vector>\n",
    "#include <string>\n",
    "using namespace std;"
   ]
  },
  {
   "cell_type": "code",
   "execution_count": 2,
   "id": "d3a2e9cd",
   "metadata": {},
   "outputs": [],
   "source": [
    "SVG canvas = SVG(400,400);\n",
    "Rect border = Rect(0, 0, 400, 400, &canvas);\n",
    "border.setFill(\"white\");\n",
    "vector<Rect*> stack;\n",
    "string key = \"\";"
   ]
  },
  {
   "cell_type": "code",
   "execution_count": 3,
   "id": "3cfc8023",
   "metadata": {},
   "outputs": [],
   "source": [
    "bool maxCheck(int counter){\n",
    "    int i = counter;\n",
    "    if(i < 10){\n",
    "        return true;\n",
    "    }\n",
    "    return false;\n",
    "}"
   ]
  },
  {
   "cell_type": "code",
   "execution_count": 4,
   "id": "8f93fb0f",
   "metadata": {},
   "outputs": [],
   "source": [
    "int i = 0;\n",
    "\n",
    "while(i != 8000){\n",
    "    key = canvas.lastKey();\n",
    "    if(key == \"ArrowUp\"){  \n",
    "        if(maxCheck(i)){\n",
    "            stack.push_back(new Rect(170, 360 - (i * 40), 60, 40, &canvas));\n",
    "            stack.back()->setFill((rand() % 256), rand() % 256, 1);\n",
    "            i++;\n",
    "            key = \"\";\n",
    "        }\n",
    "    }\n",
    "    if(key == \"ArrowDown\"){\n",
    "        if(!stack.empty()){\n",
    "            stack.back()->setFill(\"white\");\n",
    "            stack.back()->setColor(\"white\");\n",
    "            stack.pop_back();\n",
    "            i--;\n",
    "            key = \"\";\n",
    "        }\n",
    "    }\n",
    "    \n",
    "    if(key == \"q\"){\n",
    "        i = 8000;\n",
    "    }\n",
    "}"
   ]
  },
  {
   "cell_type": "code",
   "execution_count": null,
   "id": "77b21e95",
   "metadata": {},
   "outputs": [],
   "source": []
  }
 ],
 "metadata": {
  "kernelspec": {
   "display_name": "C++14",
   "language": "C++14",
   "name": "xcpp14"
  },
  "language_info": {
   "codemirror_mode": "text/x-c++src",
   "file_extension": ".cpp",
   "mimetype": "text/x-c++src",
   "name": "c++",
   "version": "14"
  }
 },
 "nbformat": 4,
 "nbformat_minor": 5
}
