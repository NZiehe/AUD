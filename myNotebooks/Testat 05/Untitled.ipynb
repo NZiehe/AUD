{
 "cells": [
  {
   "cell_type": "code",
   "execution_count": 7,
   "id": "bf66022e",
   "metadata": {},
   "outputs": [],
   "source": [
    "#include <string>\n",
    "#include <iostream>"
   ]
  },
  {
   "cell_type": "code",
   "execution_count": 8,
   "id": "d3a57874",
   "metadata": {},
   "outputs": [
    {
     "name": "stdout",
     "output_type": "stream",
     "text": [
      "H"
     ]
    }
   ],
   "source": [
    "std::string s = \"HALLO\";\n",
    "std::string *p = &s;\n",
    "\n",
    "std::cout << (*p)[0];"
   ]
  },
  {
   "cell_type": "code",
   "execution_count": null,
   "id": "811b5e8e",
   "metadata": {},
   "outputs": [],
   "source": []
  }
 ],
 "metadata": {
  "kernelspec": {
   "display_name": "C++14",
   "language": "C++14",
   "name": "xcpp14"
  },
  "language_info": {
   "codemirror_mode": "text/x-c++src",
   "file_extension": ".cpp",
   "mimetype": "text/x-c++src",
   "name": "c++",
   "version": "14"
  }
 },
 "nbformat": 4,
 "nbformat_minor": 5
}
