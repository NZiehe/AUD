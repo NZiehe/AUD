{
 "cells": [
  {
   "cell_type": "code",
   "execution_count": null,
   "id": "941cd446",
   "metadata": {},
   "outputs": [],
   "source": [
    "class Koordinaten{\n",
    "    \n",
    "    int x;\n",
    "    int y;\n",
    "    \n",
    "    public:\n",
    "    \n",
    "    Koordinaten(int x, int y){\n",
    "        this->x = x;\n",
    "        this->y = y;\n",
    "    }\n",
    "    \n",
    "    int getX(){\n",
    "        return this->x;\n",
    "    }\n",
    "    \n",
    "    int getY(){\n",
    "        return this->y;\n",
    "    }\n",
    "}"
   ]
  }
 ],
 "metadata": {
  "kernelspec": {
   "display_name": "C++14",
   "language": "C++14",
   "name": "xcpp14"
  },
  "language_info": {
   "codemirror_mode": "text/x-c++src",
   "file_extension": ".cpp",
   "mimetype": "text/x-c++src",
   "name": "c++",
   "version": "14"
  }
 },
 "nbformat": 4,
 "nbformat_minor": 5
}
