{
 "cells": [
  {
   "cell_type": "markdown",
   "metadata": {},
   "source": [
    "# Testataufgabe: Laufzeiten II (20 Punkte)\n",
    "\n",
    "Geben Sie jeweils in $\\mathcal{O}$-Notation an, in welcher Laufzeitklasse die folgenden Operationen liegen. Geben Sie hierbei die kleinstmögliche Laufzeitklasse an.\n",
    "\n",
    "***\n",
    "\n",
    "## Anforderungen\n",
    "\n",
    "- Geben Sie die korrekten Laufzeitklassen in $\\mathcal{O}$-Notation an.\n",
    "- Geben Sie für die Aufgabe *d)* auch eine Rechnung sowie das berechnete Ergebnis an.\n",
    "\n",
    "***"
   ]
  },
  {
   "cell_type": "code",
   "execution_count": 1,
   "metadata": {},
   "outputs": [],
   "source": [
    "// a) \n",
    "void aufgabeA(int n){\n",
    "    int i, j;\n",
    "    for(i = 1; i < n; i++){\n",
    "        for(j = 1; j < i; j++){\n",
    "            i = i+j;\n",
    "        }\n",
    "        i = j-1;\n",
    "    }\n",
    "}"
   ]
  },
  {
   "cell_type": "code",
   "execution_count": null,
   "metadata": {},
   "outputs": [],
   "source": [
    "// O(n^2)"
   ]
  },
  {
   "cell_type": "markdown",
   "metadata": {},
   "source": [
    "b) Eine Population von Algozwergen vermehrt sich folgendermaßen: Zu jedem Algozwerg kommen für jeden Algoeintrag 3 neue Algozwerge hinzu. Angenommen, die Algos werden in regelmäßigen Abständen eingetragen, mit welcher Laufzeitklasse lässt sich dann die Vermehrung beschreiben?"
   ]
  },
  {
   "cell_type": "code",
   "execution_count": null,
   "metadata": {},
   "outputs": [],
   "source": [
    "// O(1)"
   ]
  },
  {
   "cell_type": "markdown",
   "metadata": {},
   "source": [
    "c) Gegeben sei folgende Operation: \n",
    "- int log(x) berechnet log x in O(log x)\n",
    "\n",
    "Welche Laufzeitklasse hat der folgende Code bei initialem Aufruf mit x? Begründen Sie Ihre Antwort."
   ]
  },
  {
   "cell_type": "code",
   "execution_count": null,
   "metadata": {},
   "outputs": [],
   "source": [
    "// O(n)"
   ]
  },
  {
   "cell_type": "code",
   "execution_count": 2,
   "metadata": {},
   "outputs": [],
   "source": [
    "// zu c)\n",
    "void aufgabeC(int x) {\n",
    "    int result = 0;\n",
    "    for(int i = 1; i <= x; i++){\n",
    "        result += log(x);\n",
    "    }\n",
    "}"
   ]
  },
  {
   "cell_type": "markdown",
   "metadata": {},
   "source": [
    "d) \n",
    "- u(int n) berechnet $\\sqrt{n/2}$ mit einer Laufzeit von $\\mathcal{O}(n)$\n",
    "- v(int n) berechnet $\\sqrt{n}$ mit einer Laufzeit von $\\mathcal{O}(n^3)$\n",
    "- w(int n) berechnet $n/2$ mit einer Laufzeit von $\\mathcal{O}(\\sqrt{n})$\n",
    "\n",
    "Welchen Rückgabewert und welche Laufzeitklasse haben die folgenden Operationsaufrufe bei initialem Aufruf mit n? Begründen Sie Ihre Antwort.\n",
    "\n",
    "- u(v(x))\n",
    "- v(u(x))\n",
    "- v(w(x))\n",
    "- w(v(x))\n",
    "- u(v(w(x)))\n",
    "\n",
    "***"
   ]
  },
  {
   "cell_type": "code",
   "execution_count": null,
   "metadata": {},
   "outputs": [],
   "source": [
    "// u(v(x)) --> O(n^4); v(u(x)) --> O(n^4); v(w(x)) --> O(); w(v(x)) u(v(w(x)))"
   ]
  },
  {
   "cell_type": "markdown",
   "metadata": {},
   "source": [
    "***\n",
    "\n",
    "<div id=\"algoviz-license\" style=\"font-size: 75%; border-top: 1px solid lightgray; padding-top: 10px; margin-top: 20px;\">\n",
    "    <a href=\"https://creativecommons.org/licenses/by-sa/4.0/deed.de\" style=\"float:left; margin-right: 10px\">\n",
    "        <img src=\"../../img/CC-BY-SA.svg\" alt=\"CC-BY-SA\"/>\n",
    "    </a>\n",
    "    <span>\n",
    "        Alle Inhalte dieses Notebooks sind, ausgenommen der Personenbilder und sofern nicht an\n",
    "        einzelnen Inhalten anderes angegeben, lizenziert unter der Creative Commons Lizenz\n",
    "        <b>CC BY SA 4.0</b>. Namensnennung wie folgt: <b>AG Didaktik der Informatik, Universität Osnabrück</b>\n",
    "    </span>\n",
    "</div>"
   ]
  }
 ],
 "metadata": {
  "kernelspec": {
   "display_name": "C++14",
   "language": "C++14",
   "name": "xcpp14"
  },
  "language_info": {
   "codemirror_mode": "text/x-c++src",
   "file_extension": ".cpp",
   "mimetype": "text/x-c++src",
   "name": "c++",
   "version": "14"
  }
 },
 "nbformat": 4,
 "nbformat_minor": 4
}
