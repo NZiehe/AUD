{
 "cells": [
  {
   "cell_type": "code",
   "execution_count": null,
   "id": "3be39de0",
   "metadata": {},
   "outputs": [],
   "source": [
    "#include <algoviz/SVG.hpp>\n",
    "#include <string>\n",
    "#include <vector>\n",
    "#include \"Koordinaten.hpp\"\n",
    "#include <cmath>\n",
    "using namespace std;"
   ]
  },
  {
   "cell_type": "code",
   "execution_count": null,
   "id": "45cc635d",
   "metadata": {},
   "outputs": [],
   "source": [
    "SVG canvas = SVG (300,300);\n",
    "Circle red = Circle(50, 50, 5, &canvas);\n",
    "Circle blue = Circle(40, 50, 5, &canvas);\n",
    "\n",
    "red.setFill(\"red\");\n",
    "blue.setFill(\"blue\");\n",
    "\n",
    "vector<Koordinaten> shadow;\n",
    "string key = \"\";\n",
    "\n",
    "int dx = 10;\n",
    "int dy = 0;\n",
    "\n",
    "int wait = 300;"
   ]
  },
  {
   "cell_type": "code",
   "execution_count": null,
   "id": "9f949348",
   "metadata": {},
   "outputs": [],
   "source": [
    "void keyCheck(){\n",
    "    if ( key == \"ArrowUp\") {\n",
    "        dx = 0;\n",
    "        dy = -10;\n",
    "    } else if ( key == \"ArrowDown\") {\n",
    "        dx = 0;\n",
    "        dy = 10;\n",
    "    } else if ( key == \"ArrowLeft\") {\n",
    "        dx = -10;\n",
    "        dy = 0;\n",
    "    } else if ( key == \"ArrowRight\") {\n",
    "        dx = 10;\n",
    "        dy = 0;\n",
    "    }\n",
    "}"
   ]
  },
  {
   "cell_type": "code",
   "execution_count": null,
   "id": "f21f29cf",
   "metadata": {},
   "outputs": [],
   "source": [
    "bool distanceCheck(){\n",
    "    \n",
    "    double x = (blue.getX() - red.getX());\n",
    "    double y = (blue.getY() - red.getY());\n",
    "    \n",
    "    if(sqrt(pow(x,2) + pow(y,2)) < 20){\n",
    "        return true;\n",
    "    }\n",
    "    return false;\n",
    "}"
   ]
  },
  {
   "cell_type": "code",
   "execution_count": null,
   "id": "8cd65d90",
   "metadata": {},
   "outputs": [],
   "source": [
    "while (key != \"x\") {\n",
    "    key = canvas.lastKey();\n",
    "    keyCheck();\n",
    "    Koordinaten move = Koordinaten((red.getX()),(red.getY()));\n",
    "    shadow.push_back(move);\n",
    "    red.moveTo((red.getX() + dx), (red.getY() + dy));\n",
    "    if(!distanceCheck()){\n",
    "        if(!shadow.empty()){\n",
    "            blue.moveTo(shadow[0].getX(), shadow[0].getY());\n",
    "            shadow.erase(shadow.begin());\n",
    "        }\n",
    "    }\n",
    "    \n",
    "    AlgoViz::sleep(wait);\n",
    "}"
   ]
  }
 ],
 "metadata": {
  "kernelspec": {
   "display_name": "C++14",
   "language": "C++14",
   "name": "xcpp14"
  },
  "language_info": {
   "codemirror_mode": "text/x-c++src",
   "file_extension": ".cpp",
   "mimetype": "text/x-c++src",
   "name": "c++",
   "version": "14"
  }
 },
 "nbformat": 4,
 "nbformat_minor": 5
}
