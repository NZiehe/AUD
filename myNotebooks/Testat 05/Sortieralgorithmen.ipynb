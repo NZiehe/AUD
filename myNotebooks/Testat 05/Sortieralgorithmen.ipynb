{
 "cells": [
  {
   "cell_type": "code",
   "execution_count": 1,
   "id": "a413ee93",
   "metadata": {},
   "outputs": [],
   "source": [
    "#include <algoviz/SVG.hpp>"
   ]
  },
  {
   "cell_type": "code",
   "execution_count": null,
   "id": "b3f554fb",
   "metadata": {},
   "outputs": [],
   "source": [
    "%%timeit"
   ]
  },
  {
   "cell_type": "code",
   "execution_count": 2,
   "id": "1147d37d",
   "metadata": {},
   "outputs": [],
   "source": [
    "double  selectionResult[] = {0,0,0,0,0,0,0,0,0,0,0,0,0};\n",
    "double  bubbleResult[] = {0,0,0,0,0,0,0,0,0,0,0,0,0};\n",
    "double  InsertionResult[] = {0,0,0,0,0,0,0,0,0,0,0,0,0};\n",
    "double  ShakerResult[] = {0,0,0,0,0,0,0,0,0,0,0,0,0};\n",
    "double  GnomeResult[] = {0,0,0,0,0,0,0,0,0,0,0,0,0};\n",
    "\n",
    "int length = 0;\n",
    "int *testA[0];\n",
    "*testA = new int[1000];\n",
    "length = 1000;"
   ]
  },
  {
   "cell_type": "code",
   "execution_count": 3,
   "id": "22e38bd4",
   "metadata": {},
   "outputs": [],
   "source": [
    "void selectionSort(){\n",
    "    \n",
    "    for(int i = 0; i < length; i++){\n",
    "        int max = (length - 1 - i);\n",
    "        for(int j = 0; j < (length - i); j++){\n",
    "            if(testA[j] > testA[max]){\n",
    "                max = j;\n",
    "            }\n",
    "        }\n",
    "        swap(testA[length-1-i], testA[max]);\n",
    "    }\n",
    "}"
   ]
  },
  {
   "cell_type": "code",
   "execution_count": 4,
   "id": "25ec7ec5",
   "metadata": {},
   "outputs": [],
   "source": [
    "void bubbleSort(){\n",
    "    \n",
    "    bool swapped;\n",
    "    int n = length;\n",
    "    \n",
    "    do{\n",
    "        swapped = false;\n",
    "        for(int i = 0; i < n; i++){\n",
    "            if(testA[i] > testA[i+1]){\n",
    "                \n",
    "                swap(testA[i], testA[i+1]);\n",
    "                swapped = true;\n",
    "            }\n",
    "        }\n",
    "        \n",
    "        n = n - 1;\n",
    "        \n",
    "    }while(swapped);\n",
    "}"
   ]
  },
  {
   "cell_type": "code",
   "execution_count": 5,
   "id": "f150e3cd",
   "metadata": {},
   "outputs": [],
   "source": [
    "void insertionSort(){\n",
    "    \n",
    "    for(int i = 1; i < length; i++){\n",
    "        \n",
    "        int toSort = *testA[i];\n",
    "        int j = i;\n",
    "        \n",
    "        while(j > 0 && testA[j-1] > &toSort){\n",
    "            testA[j] = testA[j-1];\n",
    "            j = j - 1;\n",
    "        }\n",
    "        \n",
    "        testA[j] = &toSort;\n",
    "    }\n",
    "}"
   ]
  },
  {
   "cell_type": "code",
   "execution_count": 6,
   "id": "7a34c79d",
   "metadata": {},
   "outputs": [],
   "source": [
    "void shakerSort(){\n",
    "    \n",
    "    int begin = -1;\n",
    "    int ende = length -2;\n",
    "    bool swapped;\n",
    "    \n",
    "    do{\n",
    "        swapped = false;\n",
    "        begin++;\n",
    "        \n",
    "        for(int i = begin; i <= ende; i++){\n",
    "            if(testA[i] > testA[i+1]){\n",
    "                swap(testA[i], testA[i+1]);\n",
    "                swapped = true;\n",
    "            }\n",
    "        }\n",
    "        \n",
    "        if(!swapped){\n",
    "            \n",
    "            swapped = false;\n",
    "            ende--;\n",
    "            \n",
    "            for(int i = ende; i > begin; i--){\n",
    "                if(testA[i] > testA[i+1]){\n",
    "                    swap(testA[i], testA[i+1]);\n",
    "                    swapped = true;\n",
    "                }\n",
    "            }\n",
    "        }\n",
    "        \n",
    "    }while(swapped);\n",
    "}"
   ]
  },
  {
   "cell_type": "code",
   "execution_count": 7,
   "id": "65190f36",
   "metadata": {},
   "outputs": [],
   "source": [
    "void gnomeSort(){\n",
    "    \n",
    "    int index = 0;\n",
    "  \n",
    "    while (index < length) {\n",
    "        if (index == 0)\n",
    "            index++;\n",
    "        if (testA[index] >= testA[index - 1])\n",
    "            index++;\n",
    "        else {\n",
    "            swap(testA[index], testA[index - 1]);\n",
    "            index--;\n",
    "        }\n",
    "    }\n",
    "    return;\n",
    "}"
   ]
  },
  {
   "cell_type": "code",
   "execution_count": null,
   "id": "6245de14",
   "metadata": {},
   "outputs": [],
   "source": []
  }
 ],
 "metadata": {
  "kernelspec": {
   "display_name": "C++14",
   "language": "C++14",
   "name": "xcpp14"
  },
  "language_info": {
   "codemirror_mode": "text/x-c++src",
   "file_extension": ".cpp",
   "mimetype": "text/x-c++src",
   "name": "c++",
   "version": "14"
  }
 },
 "nbformat": 4,
 "nbformat_minor": 5
}
