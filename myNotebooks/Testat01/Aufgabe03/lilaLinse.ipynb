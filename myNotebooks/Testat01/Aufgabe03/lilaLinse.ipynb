{
 "cells": [
  {
   "cell_type": "code",
   "execution_count": 1,
   "id": "e8b40f1d",
   "metadata": {},
   "outputs": [],
   "source": [
    "#include <algoviz/SVG.hpp>"
   ]
  },
  {
   "cell_type": "code",
   "execution_count": 2,
   "id": "3cdbb68f",
   "metadata": {},
   "outputs": [],
   "source": [
    "SVG canvas = SVG(610, 610);"
   ]
  },
  {
   "cell_type": "code",
   "execution_count": 3,
   "id": "34efcf14",
   "metadata": {},
   "outputs": [],
   "source": [
    "canvas.drawRect(0, 0, 610, 610, 0, 0);\n",
    "Circle c1 = Circle(50, 50 ,50 ,&canvas);\n",
    "Circle c2 = Circle(560, 560, 50, &canvas);"
   ]
  },
  {
   "cell_type": "code",
   "execution_count": 4,
   "id": "9d97cc1a",
   "metadata": {},
   "outputs": [],
   "source": [
    "for(int i = 2; i <= 561; i++){\n",
    "    c1.setFill(0 , 0, i / 2, 0.5);\n",
    "    c2.setFill(i / 2, 0, 0, 0.5);\n",
    "    c1.setRadius(c1.getRadius() +1);\n",
    "    c2.setRadius(c1.getRadius() +1);\n",
    "    c1.moveTo(50 + i, 50 + i);\n",
    "    c2.moveTo(560 - i, 560 - i);\n",
    " }"
   ]
  },
  {
   "cell_type": "code",
   "execution_count": 66,
   "id": "1e998135",
   "metadata": {},
   "outputs": [],
   "source": [
    "AlgoViz::clear();"
   ]
  },
  {
   "cell_type": "code",
   "execution_count": 7,
   "id": "9d05a741",
   "metadata": {},
   "outputs": [],
   "source": [
    "c1.setFill(0, 0, 255, 0.5);\n",
    "c2.setFill(255, 0, 0, 0.5);"
   ]
  },
  {
   "cell_type": "code",
   "execution_count": 8,
   "id": "61dc499b",
   "metadata": {},
   "outputs": [],
   "source": [
    "?SVG"
   ]
  },
  {
   "cell_type": "code",
   "execution_count": null,
   "id": "b9144ed2",
   "metadata": {},
   "outputs": [],
   "source": []
  }
 ],
 "metadata": {
  "kernelspec": {
   "display_name": "C++14",
   "language": "C++14",
   "name": "xcpp14"
  },
  "language_info": {
   "codemirror_mode": "text/x-c++src",
   "file_extension": ".cpp",
   "mimetype": "text/x-c++src",
   "name": "c++",
   "version": "14"
  }
 },
 "nbformat": 4,
 "nbformat_minor": 5
}
