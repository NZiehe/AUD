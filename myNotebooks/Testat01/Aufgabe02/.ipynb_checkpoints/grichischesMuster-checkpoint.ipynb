{
 "cells": [
  {
   "cell_type": "code",
   "execution_count": 10,
   "id": "25ad829e",
   "metadata": {},
   "outputs": [],
   "source": [
    "#include <algoviz/Turtle.hpp>\n",
    "#include <iostream>\n",
    "using namespace std;"
   ]
  },
  {
   "cell_type": "code",
   "execution_count": 11,
   "id": "70229644",
   "metadata": {},
   "outputs": [
    {
     "name": "stdout",
     "output_type": "stream",
     "text": [
      "Wie oft soll das Grichische-Pattern wiederholt werden?20\n"
     ]
    }
   ],
   "source": [
    "int scale = 0;\n",
    "\n",
    "cout << \"Wie oft soll das Grichische-Pattern wiederholt werden?\";\n",
    "cin >> scale;\n",
    "\n",
    "Turtle turtle = Turtle(600 * scale, 600);\n",
    "turtle.setWidth(50);\n",
    "turtle.setColor(\"blue\");\n",
    "turtle.moveTo(0,100);"
   ]
  },
  {
   "cell_type": "code",
   "execution_count": 12,
   "id": "c50da9ca",
   "metadata": {},
   "outputs": [],
   "source": [
    "for(int i = 0; i < scale; i++){\n",
    "    \n",
    "    turtle.forward(425);\n",
    "    turtle.turn(90);\n",
    "    turtle.penUp();\n",
    "    turtle.forward(500);\n",
    "    turtle.penDown();\n",
    "    turtle.turn(90);\n",
    "    turtle.forward(425);\n",
    "    turtle.backward(25);\n",
    "    turtle.turn(90);\n",
    "    turtle.penUp();\n",
    "    turtle.forward(100);\n",
    "    turtle.penDown();\n",
    "    turtle.backward(25);\n",
    "    turtle.forward(325);\n",
    "    turtle.turn(90);\n",
    "    turtle.backward(25);\n",
    "    turtle.forward(375);\n",
    "    turtle.backward(25);\n",
    "    turtle.turn(90);\n",
    "    turtle.forward(225);\n",
    "    turtle.backward(25);\n",
    "    turtle.turn(90);\n",
    "    turtle.forward(150);\n",
    "    turtle.backward(75);\n",
    "    turtle.penUp();\n",
    "    turtle.turn(90);\n",
    "    turtle.forward(100);\n",
    "    turtle.penDown();\n",
    "    turtle.turn(270);\n",
    "    turtle.forward(150);\n",
    "    turtle.turn(270);\n",
    "    turtle.backward(25);\n",
    "    turtle.forward(225);\n",
    "    turtle.turn(270);\n",
    "    turtle.backward(25);\n",
    "    turtle.forward(325);\n",
    "    turtle.turn(270);\n",
    "    turtle.penUp();\n",
    "    turtle.forward(400);\n",
    "    turtle.turn(90);\n",
    "    turtle.penDown();\n",
    "}"
   ]
  },
  {
   "cell_type": "code",
   "execution_count": null,
   "id": "4559847f",
   "metadata": {},
   "outputs": [],
   "source": []
  },
  {
   "cell_type": "code",
   "execution_count": null,
   "id": "add52161",
   "metadata": {},
   "outputs": [],
   "source": []
  }
 ],
 "metadata": {
  "kernelspec": {
   "display_name": "C++14",
   "language": "C++14",
   "name": "xcpp14"
  },
  "language_info": {
   "codemirror_mode": "text/x-c++src",
   "file_extension": ".cpp",
   "mimetype": "text/x-c++src",
   "name": "c++",
   "version": "14"
  }
 },
 "nbformat": 4,
 "nbformat_minor": 5
}
