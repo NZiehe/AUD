{
 "cells": [
  {
   "cell_type": "code",
   "execution_count": 1,
   "id": "4cbb475b",
   "metadata": {},
   "outputs": [],
   "source": [
    "#include <iostream>\n",
    "using namespace std;\n"
   ]
  },
  {
   "cell_type": "code",
   "execution_count": 2,
   "id": "50ced87f",
   "metadata": {},
   "outputs": [],
   "source": [
    "int intArray[] = {1, 5, 7, 12, 17, 23, 42, 57, 87, 125, 189, 211, 356, 590, 1090, 3589, 7893, 12234};\n",
    "int intArrayLength = 18;\n",
    "searchBinary();"
   ]
  },
  {
   "cell_type": "code",
   "execution_count": null,
   "id": "92ab47be",
   "metadata": {},
   "outputs": [],
   "source": [
    "bool searchBinary(int searchedForInt) {\n",
    "\n",
    "int start = 0;\n",
    "int end = intArrayLength;\n",
    "}"
   ]
  }
 ],
 "metadata": {
  "kernelspec": {
   "display_name": "C++14",
   "language": "C++14",
   "name": "xcpp14"
  },
  "language_info": {
   "codemirror_mode": "text/x-c++src",
   "file_extension": ".cpp",
   "mimetype": "text/x-c++src",
   "name": "c++",
   "version": "14"
  }
 },
 "nbformat": 4,
 "nbformat_minor": 5
}
