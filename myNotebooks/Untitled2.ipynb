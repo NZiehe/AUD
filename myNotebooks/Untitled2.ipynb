{
 "cells": [
  {
   "cell_type": "code",
   "execution_count": 1,
   "id": "0ff0b681",
   "metadata": {},
   "outputs": [],
   "source": [
    "#include <algoviz/SVG.hpp>"
   ]
  },
  {
   "cell_type": "code",
   "execution_count": 2,
   "id": "72dc549a",
   "metadata": {},
   "outputs": [],
   "source": [
    "?SVG"
   ]
  },
  {
   "cell_type": "code",
   "execution_count": 3,
   "id": "87b63dcc",
   "metadata": {},
   "outputs": [
    {
     "name": "stdout",
     "output_type": "stream",
     "text": [
      "sh: 1: SVG: not found\n"
     ]
    }
   ],
   "source": [
    "!SVG"
   ]
  },
  {
   "cell_type": "code",
   "execution_count": null,
   "id": "36f99b13",
   "metadata": {},
   "outputs": [],
   "source": []
  }
 ],
 "metadata": {
  "kernelspec": {
   "display_name": "C++14",
   "language": "C++14",
   "name": "xcpp14"
  },
  "language_info": {
   "codemirror_mode": "text/x-c++src",
   "file_extension": ".cpp",
   "mimetype": "text/x-c++src",
   "name": "c++",
   "version": "14"
  }
 },
 "nbformat": 4,
 "nbformat_minor": 5
}
